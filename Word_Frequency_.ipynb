{
  "nbformat": 4,
  "nbformat_minor": 0,
  "metadata": {
    "colab": {
      "provenance": [],
      "authorship_tag": "ABX9TyPG/6hMabOV2u3qHsbkmFEX",
      "include_colab_link": true
    },
    "kernelspec": {
      "name": "python3",
      "display_name": "Python 3"
    },
    "language_info": {
      "name": "python"
    }
  },
  "cells": [
    {
      "cell_type": "markdown",
      "metadata": {
        "id": "view-in-github",
        "colab_type": "text"
      },
      "source": [
        "<a href=\"https://colab.research.google.com/github/DeeDoDo/Dee_python_projects/blob/main/Word_Frequency_.ipynb\" target=\"_parent\"><img src=\"https://colab.research.google.com/assets/colab-badge.svg\" alt=\"Open In Colab\"/></a>"
      ]
    },
    {
      "cell_type": "code",
      "execution_count": null,
      "metadata": {
        "colab": {
          "base_uri": "https://localhost:8080/"
        },
        "id": "DPjyUYEZ86pa",
        "outputId": "51da1907-b5fb-4e40-b287-445e077bcbbf"
      },
      "outputs": [
        {
          "output_type": "stream",
          "name": "stdout",
          "text": [
            "Top 60 most occurring words (removing stop words):\n",
            "iim: 786 times\n",
            "mba: 696 times\n",
            "management: 695 times\n",
            "cat: 652 times\n",
            "good: 555 times\n",
            "admission: 550 times\n",
            "college: 528 times\n",
            "get: 471 times\n",
            "students: 457 times\n",
            "score: 440 times\n",
            "year: 405 times\n",
            "institute: 378 times\n",
            "hi: 359 times\n",
            "percentile: 338 times\n",
            "also: 335 times\n",
            "business: 310 times\n",
            "b: 306 times\n",
            "ifim: 292 times\n",
            "bangalore: 288 times\n",
            "fms: 286 times\n",
            "would: 282 times\n",
            "best: 281 times\n",
            "pgdm: 279 times\n",
            "one: 277 times\n",
            "placements: 274 times\n",
            "placement: 270 times\n",
            "school: 262 times\n",
            "course: 261 times\n",
            "iims: 243 times\n",
            "india: 242 times\n",
            "well: 235 times\n",
            "top: 233 times\n",
            "programme: 232 times\n",
            "candidates: 231 times\n",
            "exam: 225 times\n",
            "colleges: 223 times\n",
            "experience: 218 times\n",
            "like: 218 times\n",
            "need: 217 times\n",
            "yes: 213 times\n",
            "university: 207 times\n",
            "criteria: 207 times\n",
            "5: 207 times\n",
            "offered: 200 times\n",
            "years: 199 times\n",
            "student: 198 times\n",
            "academic: 197 times\n",
            "work: 195 times\n",
            "marks: 195 times\n",
            "ranchi: 195 times\n",
            "hello: 193 times\n",
            "delhi: 193 times\n",
            "based: 191 times\n",
            "package: 190 times\n",
            "2: 189 times\n",
            "interview: 185 times\n",
            "finance: 184 times\n",
            "scores: 183 times\n",
            "faculty: 182 times\n",
            "degree: 179 times\n"
          ]
        },
        {
          "output_type": "stream",
          "name": "stderr",
          "text": [
            "[nltk_data] Downloading package stopwords to /root/nltk_data...\n",
            "[nltk_data]   Unzipping corpora/stopwords.zip.\n"
          ]
        }
      ],
      "source": [
        "import csv\n",
        "import re\n",
        "from collections import Counter\n",
        "import nltk\n",
        "from nltk.corpus import stopwords\n",
        "\n",
        "nltk.download('stopwords')\n",
        "stop_words = set(stopwords.words('english'))\n",
        "\n",
        "def get_max_occurring_words(file_path, comments_column_name, top_n=60):\n",
        "    # Dictionary to store the word counts\n",
        "    word_counts = Counter()\n",
        "\n",
        "    with open(file_path, 'r', encoding='utf-8', errors='replace') as file:\n",
        "        reader = csv.DictReader(file)\n",
        "        for row in reader:\n",
        "            comments = row[comments_column_name].lower()  # Convert comments to lowercase\n",
        "            # Remove special characters and digits, then split comments into individual words\n",
        "            words = re.findall(r'\\b\\w+\\b', comments)\n",
        "            # Filter out stop words and update the word_counts dictionary\n",
        "            word_counts.update(word for word in words if word not in stop_words)\n",
        "\n",
        "    # Get the top_n most common words with their counts\n",
        "    top_words_with_counts = word_counts.most_common(top_n)\n",
        "\n",
        "    return top_words_with_counts\n",
        "\n",
        "if __name__ == \"__main__\":\n",
        "    file_path = \"/content/college_data.csv\"  # Replace with the path to your CSV file\n",
        "    comments_column_name = \"comments\"  # Replace with the actual column name for comments\n",
        "    top_n = 60  # Number of top words to display\n",
        "\n",
        "    top_words_with_counts = get_max_occurring_words(file_path, comments_column_name, top_n)\n",
        "\n",
        "    print(\"Top 60 most occurring words (removing stop words):\")\n",
        "    for word, count in top_words_with_counts:\n",
        "        print(f\"{word}: {count} times\")"
      ]
    }
  ]
}